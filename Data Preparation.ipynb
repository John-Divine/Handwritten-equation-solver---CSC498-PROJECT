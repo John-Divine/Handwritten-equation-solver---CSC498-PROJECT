{
 "cells": [
  {
   "cell_type": "markdown",
   "id": "34dbb737",
   "metadata": {},
   "source": [
    "# Data preparation"
   ]
  },
  {
   "cell_type": "code",
   "execution_count": 3,
   "id": "91efadd1",
   "metadata": {},
   "outputs": [],
   "source": [
    "#IMPORTING LIBRARIES\n",
    "\n",
    "# To provide with the name of the images.\n",
    "import glob\n",
    "\n",
    "# To read rgb values of images.\n",
    "import cv2\n",
    "\n",
    "# To work with numpy arrays.\n",
    "import numpy as np \n",
    "\n",
    "# To open the image so it can be resized.\n",
    "from PIL import Image\n",
    "\n",
    "import matplotlib.pyplot as plt"
   ]
  },
  {
   "cell_type": "markdown",
   "id": "690ea310",
   "metadata": {},
   "source": [
    "Extracting and augmenting from folder"
   ]
  },
  {
   "cell_type": "code",
   "execution_count": 5,
   "id": "33638475",
   "metadata": {},
   "outputs": [],
   "source": [
    "\n",
    "import os\n",
    "symbol_list = ['0','1','2','3','4','5','6','7','8','9','+','-','(',')','times',',','u','v','w','y','z','x','pi','div']\n",
    "for s in symbol_list:\n",
    "    files = glob.glob(f'C:/Users/Google_Brain-Storm/extracted_images/'+s+'/*.jpg')\n",
    "    os.chdir('C:/Users/Google_Brain-Storm/symbols') \n",
    "    os.mkdir(s+'_images')\n",
    "\n",
    "    i=1 \n",
    "    for image in files :\n",
    "        open_image=Image.open(image).convert('L')\n",
    "        \n",
    "        open_image.save('C:/Users/Google_Brain-Storm/symbols/'+s+'_images/'+str(i)+'.jpg')\n",
    "        i=i+1\n",
    "        \n",
    "    os.chdir('C:/Users/Google_Brain-Storm/extracted_images') "
   ]
  },
  {
   "cell_type": "code",
   "execution_count": null,
   "id": "856ade01",
   "metadata": {},
   "outputs": [],
   "source": []
  }
 ],
 "metadata": {
  "kernelspec": {
   "display_name": "Python 3 (ipykernel)",
   "language": "python",
   "name": "python3"
  },
  "language_info": {
   "codemirror_mode": {
    "name": "ipython",
    "version": 3
   },
   "file_extension": ".py",
   "mimetype": "text/x-python",
   "name": "python",
   "nbconvert_exporter": "python",
   "pygments_lexer": "ipython3",
   "version": "3.9.7"
  }
 },
 "nbformat": 4,
 "nbformat_minor": 5
}
